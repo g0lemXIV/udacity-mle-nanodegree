{
 "cells": [
  {
   "cell_type": "markdown",
   "id": "c529afa9",
   "metadata": {},
   "source": [
    "## PCA base model\n",
    "\n",
    "The basic model is to create a PCA to reduce the size of pixels in photos. PCA is a popular method that works well for reducing the dimensionality of data. PCA keeps critical information hidden in data through a linear transformation. In photos, this process can be understood as reducing the number of pixels that do not affect key areas of the image.\n",
    "\n",
    "**Algorithm assumptions**\n",
    "\n",
    "The PCA algorithm will be built based on the training set and then validated on the test and training sets. The basic assumption of the model is to reduce the dimensionality of the image, and then to compare the pairs of the [anchor, positive] and [anchor, negative] types. This method allows us to determine the average threshold at which the algorithm can determine whether the presented faces in pairs are the same people or not. Then the threshold calculated from the training set will be used to determine whether the face pairs in the training and test sets are the same people or not. This way the accuracy will be calculated and the threshold could be used in the production phase.\n",
    "\n",
    "**Machine Learning Workflow**\n",
    "\n",
    "To test different unsupervised algorithms, I will go through several steps:\n",
    "\n",
    "- Loading data from S3\n",
    "- Create traning job with build-in PCA algorithm from SageMaker SDK\n",
    "- Calculate distance threshold with train data\n",
    "- Validate algorithm with test / val dataset\n",
    "- Examine results"
   ]
  },
  {
   "cell_type": "markdown",
   "id": "3c36f1fb",
   "metadata": {},
   "source": [
    "### Install packages, loading libraries, and create environment variables"
   ]
  },
  {
   "cell_type": "code",
   "execution_count": 1,
   "id": "a175310f",
   "metadata": {
    "scrolled": true
   },
   "outputs": [
    {
     "name": "stdout",
     "output_type": "stream",
     "text": [
      "Collecting hyperopt\n",
      "  Downloading hyperopt-0.2.5-py2.py3-none-any.whl (965 kB)\n",
      "\u001b[K     |████████████████████████████████| 965 kB 20.8 MB/s eta 0:00:01\n",
      "\u001b[?25hRequirement already satisfied: six in /home/ec2-user/anaconda3/envs/tensorflow2_p36/lib/python3.6/site-packages (from hyperopt) (1.15.0)\n",
      "Collecting tqdm\n",
      "  Using cached tqdm-4.61.1-py2.py3-none-any.whl (75 kB)\n",
      "Requirement already satisfied: networkx>=2.2 in /home/ec2-user/anaconda3/envs/tensorflow2_p36/lib/python3.6/site-packages (from hyperopt) (2.5)\n",
      "Requirement already satisfied: numpy in /home/ec2-user/anaconda3/envs/tensorflow2_p36/lib/python3.6/site-packages (from hyperopt) (1.18.5)\n",
      "Requirement already satisfied: scipy in /home/ec2-user/anaconda3/envs/tensorflow2_p36/lib/python3.6/site-packages (from hyperopt) (1.5.3)\n",
      "Requirement already satisfied: cloudpickle in /home/ec2-user/anaconda3/envs/tensorflow2_p36/lib/python3.6/site-packages (from hyperopt) (1.6.0)\n",
      "Requirement already satisfied: future in /home/ec2-user/anaconda3/envs/tensorflow2_p36/lib/python3.6/site-packages (from hyperopt) (0.18.2)\n",
      "Requirement already satisfied: decorator>=4.3.0 in /home/ec2-user/anaconda3/envs/tensorflow2_p36/lib/python3.6/site-packages (from networkx>=2.2->hyperopt) (4.4.2)\n",
      "Installing collected packages: tqdm, hyperopt\n",
      "Successfully installed hyperopt-0.2.5 tqdm-4.61.1\n",
      "\u001b[33mWARNING: You are using pip version 21.1.2; however, version 21.1.3 is available.\n",
      "You should consider upgrading via the '/home/ec2-user/anaconda3/envs/tensorflow2_p36/bin/python -m pip install --upgrade pip' command.\u001b[0m\n"
     ]
    }
   ],
   "source": [
    "# install additional package\n",
    "!pip install hyperopt"
   ]
  },
  {
   "cell_type": "code",
   "execution_count": 2,
   "id": "8cb267b7",
   "metadata": {},
   "outputs": [],
   "source": [
    "# data managing and display libs\n",
    "import pandas as pd\n",
    "import numpy as np\n",
    "import os\n",
    "import io\n",
    "\n",
    "# sagemaker libraries\n",
    "import boto3\n",
    "import sagemaker\n",
    "from sagemaker import get_execution_role\n",
    "\n",
    "# s3fs library imports and creates s3 object\n",
    "from s3fs.core import S3FileSystem\n",
    "s3 = S3FileSystem()\n",
    "\n",
    "\n",
    "import matplotlib.pyplot as plt\n",
    "import matplotlib\n",
    "%matplotlib inline"
   ]
  },
  {
   "cell_type": "markdown",
   "id": "f9426602",
   "metadata": {},
   "source": [
    "## Loading data from S3\n",
    "\n",
    "This dataset is already in an Amazon S3 bucket, it was created in the first stage notebook where we explore and dump the dataset to local storage and s3."
   ]
  },
  {
   "cell_type": "code",
   "execution_count": 3,
   "id": "3556c0a1",
   "metadata": {},
   "outputs": [
    {
     "name": "stdout",
     "output_type": "stream",
     "text": [
      "Role used by SageMaker:  arn:aws:iam::081489346219:role/c20300a265023u1343687t1w0-SageMakerNotebookInstanc-YHJZOL3CFWPI\n",
      "Default S3 bucket:  sagemaker-us-east-1-081489346219\n"
     ]
    }
   ],
   "source": [
    "# boto3 client to get S3 data\n",
    "s3_client = boto3.client('s3')\n",
    "# S3 bucket name\n",
    "\n",
    "sagemaker_session = sagemaker.Session()\n",
    "\n",
    "# get default data bucket\n",
    "bucket = sagemaker_session.default_bucket()\n",
    "# create prefix for pca algorithm job\n",
    "prefix_pca_output = 'ml_capstone/face_recognition_pca'\n",
    "\n",
    "prefix_pca_input = f'{bucket}/ml_capstone/face_recognition'\n",
    "\n",
    "# get IAM role\n",
    "role = get_execution_role()\n",
    "print('Role used by SageMaker: ', role)\n",
    "print('Default S3 bucket: ', bucket)"
   ]
  },
  {
   "cell_type": "markdown",
   "id": "5f69bfbf",
   "metadata": {},
   "source": [
    "## Create traning job with build-in PCA algorithm from SageMaker SDK\n",
    "\n",
    "The Amazon SageMaker PCA algorithm is the build-in algorithm that can be used for any type of data. Below, a basic fitting method is described. We can add the number of components for PCA, subtract the mean (which normalizes the data) as parameters. Furthermore, we can add mode, instance type, and spot instance. Spot Instances let us take advantage of unused EC2 capacity in the AWS cloud. Spot Instances are available at up to a 90% discount compared to On-Demand prices."
   ]
  },
  {
   "cell_type": "code",
   "execution_count": 4,
   "id": "f212b277",
   "metadata": {},
   "outputs": [],
   "source": [
    "# define a PCA model\n",
    "from sagemaker import PCA\n",
    "\n",
    "N_COMPONENTS=150\n",
    "output_path = f's3://{bucket}/{prefix_pca_output}'\n",
    "\n",
    "\n",
    "pca_SM = PCA(role=role,\n",
    "             instance_count=1,\n",
    "             instance_type='ml.c4.xlarge',\n",
    "             output_path=output_path, # specified, above\n",
    "             num_components=N_COMPONENTS,\n",
    "             sagemaker_session=sagemaker_session,\n",
    "             mode='randomized',\n",
    "             subtract_mean=True,\n",
    "             use_spot_instances=True,\n",
    "             max_run=3600,\n",
    "             max_wait=3600)"
   ]
  },
  {
   "cell_type": "markdown",
   "id": "47407c04",
   "metadata": {},
   "source": [
    "### Convert data into a RecordSet format\n",
    "\n",
    "Next, prepare the data for a built-in model by converting the Numpy array to **RecordSet**.\n",
    "\n",
    "The record_set function in the SageMaker PCA model converts a NumPy array into a RecordSet format that is the required format for the training input data. This is a requirement for all of SageMaker's built-in models."
   ]
  },
  {
   "cell_type": "code",
   "execution_count": 5,
   "id": "5f267370",
   "metadata": {},
   "outputs": [],
   "source": [
    "# convert numpy array to record set\n",
    "train_data = np.load(s3.open(f'{prefix_pca_input}/X_train_pca.npy')).astype('float32')\n",
    "formatted_train_data = pca_SM.record_set(train_data[:, 0, :])"
   ]
  },
  {
   "cell_type": "markdown",
   "id": "04a4e59d",
   "metadata": {},
   "source": [
    "### Train the model\n",
    "\n",
    "Now we can call the fit function on the PCA model, passing in formatted, training data."
   ]
  },
  {
   "cell_type": "code",
   "execution_count": 6,
   "id": "2349b713",
   "metadata": {},
   "outputs": [
    {
     "name": "stderr",
     "output_type": "stream",
     "text": [
      "Defaulting to the only supported framework/algorithm version: 1. Ignoring framework/algorithm version: 1.\n",
      "Defaulting to the only supported framework/algorithm version: 1. Ignoring framework/algorithm version: 1.\n"
     ]
    },
    {
     "name": "stdout",
     "output_type": "stream",
     "text": [
      "2021-06-29 19:27:46 Starting - Starting the training job...\n",
      "2021-06-29 19:28:11 Starting - Launching requested ML instancesProfilerReport-1624994866: InProgress\n",
      "...\n",
      "2021-06-29 19:28:50 Starting - Preparing the instances for training............\n",
      "2021-06-29 19:30:47 Downloading - Downloading input data...\n",
      "2021-06-29 19:31:20 Training - Training image download completed. Training in progress..\u001b[34mDocker entrypoint called with argument(s): train\u001b[0m\n",
      "\u001b[34mRunning default environment configuration script\u001b[0m\n",
      "\u001b[34m[06/29/2021 19:31:24 INFO 140211638945600] Reading default configuration from /opt/amazon/lib/python3.7/site-packages/algorithm/resources/default-conf.json: {'algorithm_mode': 'regular', 'subtract_mean': 'true', 'extra_components': '-1', 'force_dense': 'true', 'epochs': 1, '_log_level': 'info', '_kvstore': 'dist_sync', '_num_kv_servers': 'auto', '_num_gpus': 'auto'}\u001b[0m\n",
      "\u001b[34m[06/29/2021 19:31:24 INFO 140211638945600] Merging with provided configuration from /opt/ml/input/config/hyperparameters.json: {'feature_dim': '2914', 'subtract_mean': 'True', 'num_components': '150', 'mini_batch_size': '500'}\u001b[0m\n",
      "\u001b[34m[06/29/2021 19:31:24 INFO 140211638945600] Final configuration: {'algorithm_mode': 'regular', 'subtract_mean': 'True', 'extra_components': '-1', 'force_dense': 'true', 'epochs': 1, '_log_level': 'info', '_kvstore': 'dist_sync', '_num_kv_servers': 'auto', '_num_gpus': 'auto', 'feature_dim': '2914', 'num_components': '150', 'mini_batch_size': '500'}\u001b[0m\n",
      "\u001b[34m[06/29/2021 19:31:24 WARNING 140211638945600] Loggers have already been setup.\u001b[0m\n",
      "\u001b[34m[06/29/2021 19:31:24 INFO 140211638945600] Launching parameter server for role scheduler\u001b[0m\n",
      "\u001b[34m[06/29/2021 19:31:24 INFO 140211638945600] {'ENVROOT': '/opt/amazon', 'PROTOCOL_BUFFERS_PYTHON_IMPLEMENTATION': 'cpp', 'HOSTNAME': 'ip-10-2-77-221.ec2.internal', 'TRAINING_JOB_NAME': 'pca-2021-06-29-19-27-46-686', 'NVIDIA_REQUIRE_CUDA': 'cuda>=9.0', 'TRAINING_JOB_ARN': 'arn:aws:sagemaker:us-east-1:081489346219:training-job/pca-2021-06-29-19-27-46-686', 'AWS_CONTAINER_CREDENTIALS_RELATIVE_URI': '/v2/credentials/e860e27c-f1b0-437b-bfa1-f30c27460361', 'CANONICAL_ENVROOT': '/opt/amazon', 'PYTHONUNBUFFERED': 'TRUE', 'NVIDIA_VISIBLE_DEVICES': 'void', 'LD_LIBRARY_PATH': '/opt/amazon/lib/python3.7/site-packages/cv2/../../../../lib:/usr/local/nvidia/lib64:/opt/amazon/lib', 'NVIDIA_DRIVER_CAPABILITIES': 'compute,utility', 'AWS_EXECUTION_ENV': 'AWS_ECS_EC2', 'PATH': '/opt/amazon/bin:/usr/local/nvidia/bin:/usr/local/sbin:/usr/local/bin:/usr/sbin:/usr/bin:/sbin:/bin:/opt/amazon/bin:/opt/amazon/bin', 'PWD': '/', 'LANG': 'en_US.utf8', 'AWS_REGION': 'us-east-1', 'HOME': '/root', 'SHLVL': '1', 'PROTOCOL_BUFFERS_PYTHON_IMPLEMENTATION_VERSION': '2', 'OMP_NUM_THREADS': '2', 'DMLC_INTERFACE': 'eth0', 'ECS_CONTAINER_METADATA_URI': 'http://169.254.170.2/v3/4d388096-0aff-46fd-9654-23f18af3054c', 'ECS_CONTAINER_METADATA_URI_V4': 'http://169.254.170.2/v4/4d388096-0aff-46fd-9654-23f18af3054c', 'SAGEMAKER_HTTP_PORT': '8080', 'SAGEMAKER_DATA_PATH': '/opt/ml'}\u001b[0m\n",
      "\u001b[34m[06/29/2021 19:31:24 INFO 140211638945600] envs={'ENVROOT': '/opt/amazon', 'PROTOCOL_BUFFERS_PYTHON_IMPLEMENTATION': 'cpp', 'HOSTNAME': 'ip-10-2-77-221.ec2.internal', 'TRAINING_JOB_NAME': 'pca-2021-06-29-19-27-46-686', 'NVIDIA_REQUIRE_CUDA': 'cuda>=9.0', 'TRAINING_JOB_ARN': 'arn:aws:sagemaker:us-east-1:081489346219:training-job/pca-2021-06-29-19-27-46-686', 'AWS_CONTAINER_CREDENTIALS_RELATIVE_URI': '/v2/credentials/e860e27c-f1b0-437b-bfa1-f30c27460361', 'CANONICAL_ENVROOT': '/opt/amazon', 'PYTHONUNBUFFERED': 'TRUE', 'NVIDIA_VISIBLE_DEVICES': 'void', 'LD_LIBRARY_PATH': '/opt/amazon/lib/python3.7/site-packages/cv2/../../../../lib:/usr/local/nvidia/lib64:/opt/amazon/lib', 'NVIDIA_DRIVER_CAPABILITIES': 'compute,utility', 'AWS_EXECUTION_ENV': 'AWS_ECS_EC2', 'PATH': '/opt/amazon/bin:/usr/local/nvidia/bin:/usr/local/sbin:/usr/local/bin:/usr/sbin:/usr/bin:/sbin:/bin:/opt/amazon/bin:/opt/amazon/bin', 'PWD': '/', 'LANG': 'en_US.utf8', 'AWS_REGION': 'us-east-1', 'HOME': '/root', 'SHLVL': '1', 'PROTOCOL_BUFFERS_PYTHON_IMPLEMENTATION_VERSION': '2', 'OMP_NUM_THREADS': '2', 'DMLC_INTERFACE': 'eth0', 'ECS_CONTAINER_METADATA_URI': 'http://169.254.170.2/v3/4d388096-0aff-46fd-9654-23f18af3054c', 'ECS_CONTAINER_METADATA_URI_V4': 'http://169.254.170.2/v4/4d388096-0aff-46fd-9654-23f18af3054c', 'SAGEMAKER_HTTP_PORT': '8080', 'SAGEMAKER_DATA_PATH': '/opt/ml', 'DMLC_ROLE': 'scheduler', 'DMLC_PS_ROOT_URI': '10.2.77.221', 'DMLC_PS_ROOT_PORT': '9000', 'DMLC_NUM_SERVER': '1', 'DMLC_NUM_WORKER': '1'}\u001b[0m\n",
      "\u001b[34m[06/29/2021 19:31:24 INFO 140211638945600] Launching parameter server for role server\u001b[0m\n",
      "\u001b[34m[06/29/2021 19:31:24 INFO 140211638945600] {'ENVROOT': '/opt/amazon', 'PROTOCOL_BUFFERS_PYTHON_IMPLEMENTATION': 'cpp', 'HOSTNAME': 'ip-10-2-77-221.ec2.internal', 'TRAINING_JOB_NAME': 'pca-2021-06-29-19-27-46-686', 'NVIDIA_REQUIRE_CUDA': 'cuda>=9.0', 'TRAINING_JOB_ARN': 'arn:aws:sagemaker:us-east-1:081489346219:training-job/pca-2021-06-29-19-27-46-686', 'AWS_CONTAINER_CREDENTIALS_RELATIVE_URI': '/v2/credentials/e860e27c-f1b0-437b-bfa1-f30c27460361', 'CANONICAL_ENVROOT': '/opt/amazon', 'PYTHONUNBUFFERED': 'TRUE', 'NVIDIA_VISIBLE_DEVICES': 'void', 'LD_LIBRARY_PATH': '/opt/amazon/lib/python3.7/site-packages/cv2/../../../../lib:/usr/local/nvidia/lib64:/opt/amazon/lib', 'NVIDIA_DRIVER_CAPABILITIES': 'compute,utility', 'AWS_EXECUTION_ENV': 'AWS_ECS_EC2', 'PATH': '/opt/amazon/bin:/usr/local/nvidia/bin:/usr/local/sbin:/usr/local/bin:/usr/sbin:/usr/bin:/sbin:/bin:/opt/amazon/bin:/opt/amazon/bin', 'PWD': '/', 'LANG': 'en_US.utf8', 'AWS_REGION': 'us-east-1', 'HOME': '/root', 'SHLVL': '1', 'PROTOCOL_BUFFERS_PYTHON_IMPLEMENTATION_VERSION': '2', 'OMP_NUM_THREADS': '2', 'DMLC_INTERFACE': 'eth0', 'ECS_CONTAINER_METADATA_URI': 'http://169.254.170.2/v3/4d388096-0aff-46fd-9654-23f18af3054c', 'ECS_CONTAINER_METADATA_URI_V4': 'http://169.254.170.2/v4/4d388096-0aff-46fd-9654-23f18af3054c', 'SAGEMAKER_HTTP_PORT': '8080', 'SAGEMAKER_DATA_PATH': '/opt/ml'}\u001b[0m\n",
      "\u001b[34m[06/29/2021 19:31:24 INFO 140211638945600] envs={'ENVROOT': '/opt/amazon', 'PROTOCOL_BUFFERS_PYTHON_IMPLEMENTATION': 'cpp', 'HOSTNAME': 'ip-10-2-77-221.ec2.internal', 'TRAINING_JOB_NAME': 'pca-2021-06-29-19-27-46-686', 'NVIDIA_REQUIRE_CUDA': 'cuda>=9.0', 'TRAINING_JOB_ARN': 'arn:aws:sagemaker:us-east-1:081489346219:training-job/pca-2021-06-29-19-27-46-686', 'AWS_CONTAINER_CREDENTIALS_RELATIVE_URI': '/v2/credentials/e860e27c-f1b0-437b-bfa1-f30c27460361', 'CANONICAL_ENVROOT': '/opt/amazon', 'PYTHONUNBUFFERED': 'TRUE', 'NVIDIA_VISIBLE_DEVICES': 'void', 'LD_LIBRARY_PATH': '/opt/amazon/lib/python3.7/site-packages/cv2/../../../../lib:/usr/local/nvidia/lib64:/opt/amazon/lib', 'NVIDIA_DRIVER_CAPABILITIES': 'compute,utility', 'AWS_EXECUTION_ENV': 'AWS_ECS_EC2', 'PATH': '/opt/amazon/bin:/usr/local/nvidia/bin:/usr/local/sbin:/usr/local/bin:/usr/sbin:/usr/bin:/sbin:/bin:/opt/amazon/bin:/opt/amazon/bin', 'PWD': '/', 'LANG': 'en_US.utf8', 'AWS_REGION': 'us-east-1', 'HOME': '/root', 'SHLVL': '1', 'PROTOCOL_BUFFERS_PYTHON_IMPLEMENTATION_VERSION': '2', 'OMP_NUM_THREADS': '2', 'DMLC_INTERFACE': 'eth0', 'ECS_CONTAINER_METADATA_URI': 'http://169.254.170.2/v3/4d388096-0aff-46fd-9654-23f18af3054c', 'ECS_CONTAINER_METADATA_URI_V4': 'http://169.254.170.2/v4/4d388096-0aff-46fd-9654-23f18af3054c', 'SAGEMAKER_HTTP_PORT': '8080', 'SAGEMAKER_DATA_PATH': '/opt/ml', 'DMLC_ROLE': 'server', 'DMLC_PS_ROOT_URI': '10.2.77.221', 'DMLC_PS_ROOT_PORT': '9000', 'DMLC_NUM_SERVER': '1', 'DMLC_NUM_WORKER': '1'}\u001b[0m\n",
      "\u001b[34m[06/29/2021 19:31:24 INFO 140211638945600] Environment: {'ENVROOT': '/opt/amazon', 'PROTOCOL_BUFFERS_PYTHON_IMPLEMENTATION': 'cpp', 'HOSTNAME': 'ip-10-2-77-221.ec2.internal', 'TRAINING_JOB_NAME': 'pca-2021-06-29-19-27-46-686', 'NVIDIA_REQUIRE_CUDA': 'cuda>=9.0', 'TRAINING_JOB_ARN': 'arn:aws:sagemaker:us-east-1:081489346219:training-job/pca-2021-06-29-19-27-46-686', 'AWS_CONTAINER_CREDENTIALS_RELATIVE_URI': '/v2/credentials/e860e27c-f1b0-437b-bfa1-f30c27460361', 'CANONICAL_ENVROOT': '/opt/amazon', 'PYTHONUNBUFFERED': 'TRUE', 'NVIDIA_VISIBLE_DEVICES': 'void', 'LD_LIBRARY_PATH': '/opt/amazon/lib/python3.7/site-packages/cv2/../../../../lib:/usr/local/nvidia/lib64:/opt/amazon/lib', 'NVIDIA_DRIVER_CAPABILITIES': 'compute,utility', 'AWS_EXECUTION_ENV': 'AWS_ECS_EC2', 'PATH': '/opt/amazon/bin:/usr/local/nvidia/bin:/usr/local/sbin:/usr/local/bin:/usr/sbin:/usr/bin:/sbin:/bin:/opt/amazon/bin:/opt/amazon/bin', 'PWD': '/', 'LANG': 'en_US.utf8', 'AWS_REGION': 'us-east-1', 'HOME': '/root', 'SHLVL': '1', 'PROTOCOL_BUFFERS_PYTHON_IMPLEMENTATION_VERSION': '2', 'OMP_NUM_THREADS': '2', 'DMLC_INTERFACE': 'eth0', 'ECS_CONTAINER_METADATA_URI': 'http://169.254.170.2/v3/4d388096-0aff-46fd-9654-23f18af3054c', 'ECS_CONTAINER_METADATA_URI_V4': 'http://169.254.170.2/v4/4d388096-0aff-46fd-9654-23f18af3054c', 'SAGEMAKER_HTTP_PORT': '8080', 'SAGEMAKER_DATA_PATH': '/opt/ml', 'DMLC_ROLE': 'worker', 'DMLC_PS_ROOT_URI': '10.2.77.221', 'DMLC_PS_ROOT_PORT': '9000', 'DMLC_NUM_SERVER': '1', 'DMLC_NUM_WORKER': '1'}\u001b[0m\n",
      "\u001b[34mProcess 33 is a shell:scheduler.\u001b[0m\n",
      "\u001b[34mProcess 45 is a shell:server.\u001b[0m\n",
      "\u001b[34mProcess 1 is a worker.\u001b[0m\n",
      "\u001b[34m[06/29/2021 19:31:24 INFO 140211638945600] Using default worker.\u001b[0m\n",
      "\u001b[34m[06/29/2021 19:31:24 INFO 140211638945600] Loaded iterator creator application/x-labeled-vector-protobuf for content type ('application/x-labeled-vector-protobuf', '1.0')\u001b[0m\n",
      "\u001b[34m[06/29/2021 19:31:24 INFO 140211638945600] Loaded iterator creator application/x-recordio-protobuf for content type ('application/x-recordio-protobuf', '1.0')\u001b[0m\n",
      "\u001b[34m[06/29/2021 19:31:24 INFO 140211638945600] Loaded iterator creator protobuf for content type ('protobuf', '1.0')\u001b[0m\n",
      "\u001b[34m[06/29/2021 19:31:24 INFO 140211638945600] Checkpoint loading and saving are disabled.\u001b[0m\n",
      "\u001b[34m[06/29/2021 19:31:24 INFO 140211638945600] Create Store: dist_sync\u001b[0m\n",
      "\u001b[34m[06/29/2021 19:31:25 INFO 140211638945600] nvidia-smi: took 0.029 seconds to run.\u001b[0m\n",
      "\u001b[34m[06/29/2021 19:31:25 INFO 140211638945600] nvidia-smi identified 0 GPUs.\u001b[0m\n",
      "\u001b[34m[06/29/2021 19:31:25 INFO 140211638945600] Number of GPUs being used: 0\u001b[0m\n",
      "\u001b[34m[06/29/2021 19:31:25 INFO 140211638945600] The default executor is <PCAExecutor on cpu(0)>.\u001b[0m\n",
      "\u001b[34m[06/29/2021 19:31:25 INFO 140211638945600] 2914 feature(s) found in 'data'.\u001b[0m\n",
      "\u001b[34m[06/29/2021 19:31:25 INFO 140211638945600] <PCAExecutor on cpu(0)> is assigned to batch slice from 0 to 499.\u001b[0m\n",
      "\u001b[34m#metrics {\"StartTime\": 1624995084.6781926, \"EndTime\": 1624995085.308638, \"Dimensions\": {\"Algorithm\": \"PCA\", \"Host\": \"algo-1\", \"Operation\": \"training\"}, \"Metrics\": {\"initialize.time\": {\"sum\": 614.0236854553223, \"count\": 1, \"min\": 614.0236854553223, \"max\": 614.0236854553223}}}\n",
      "\u001b[0m\n",
      "\u001b[34m#metrics {\"StartTime\": 1624995085.3088286, \"EndTime\": 1624995085.3088815, \"Dimensions\": {\"Algorithm\": \"PCA\", \"Host\": \"algo-1\", \"Operation\": \"training\", \"Meta\": \"init_train_data_iter\"}, \"Metrics\": {\"Total Records Seen\": {\"sum\": 0.0, \"count\": 1, \"min\": 0, \"max\": 0}, \"Total Batches Seen\": {\"sum\": 0.0, \"count\": 1, \"min\": 0, \"max\": 0}, \"Max Records Seen Between Resets\": {\"sum\": 0.0, \"count\": 1, \"min\": 0, \"max\": 0}, \"Max Batches Seen Between Resets\": {\"sum\": 0.0, \"count\": 1, \"min\": 0, \"max\": 0}, \"Reset Count\": {\"sum\": 0.0, \"count\": 1, \"min\": 0, \"max\": 0}, \"Number of Records Since Last Reset\": {\"sum\": 0.0, \"count\": 1, \"min\": 0, \"max\": 0}, \"Number of Batches Since Last Reset\": {\"sum\": 0.0, \"count\": 1, \"min\": 0, \"max\": 0}}}\n",
      "\u001b[0m\n",
      "\u001b[34m[2021-06-29 19:31:25.310] [tensorio] [info] epoch_stats={\"data_pipeline\": \"/opt/ml/input/data/train\", \"epoch\": 0, \"duration\": 631, \"num_examples\": 1, \"num_bytes\": 5842000}\u001b[0m\n",
      "\u001b[34m[2021-06-29 19:31:25.792] [tensorio] [info] epoch_stats={\"data_pipeline\": \"/opt/ml/input/data/train\", \"epoch\": 1, \"duration\": 453, \"num_examples\": 5, \"num_bytes\": 23741888}\u001b[0m\n",
      "\u001b[34m#metrics {\"StartTime\": 1624995085.308761, \"EndTime\": 1624995085.7932823, \"Dimensions\": {\"Algorithm\": \"PCA\", \"Host\": \"algo-1\", \"Operation\": \"training\"}, \"Metrics\": {\"epochs\": {\"sum\": 1.0, \"count\": 1, \"min\": 1, \"max\": 1}, \"update.time\": {\"sum\": 482.5100898742676, \"count\": 1, \"min\": 482.5100898742676, \"max\": 482.5100898742676}}}\n",
      "\u001b[0m\n",
      "\u001b[34m[06/29/2021 19:31:25 INFO 140211638945600] #progress_metric: host=algo-1, completed 100.0 % of epochs\u001b[0m\n",
      "\u001b[34m#metrics {\"StartTime\": 1624995085.310726, \"EndTime\": 1624995085.7937214, \"Dimensions\": {\"Algorithm\": \"PCA\", \"Host\": \"algo-1\", \"Operation\": \"training\", \"epoch\": 0, \"Meta\": \"training_data_iter\"}, \"Metrics\": {\"Total Records Seen\": {\"sum\": 2032.0, \"count\": 1, \"min\": 2032, \"max\": 2032}, \"Total Batches Seen\": {\"sum\": 5.0, \"count\": 1, \"min\": 5, \"max\": 5}, \"Max Records Seen Between Resets\": {\"sum\": 2032.0, \"count\": 1, \"min\": 2032, \"max\": 2032}, \"Max Batches Seen Between Resets\": {\"sum\": 5.0, \"count\": 1, \"min\": 5, \"max\": 5}, \"Reset Count\": {\"sum\": 1.0, \"count\": 1, \"min\": 1, \"max\": 1}, \"Number of Records Since Last Reset\": {\"sum\": 2032.0, \"count\": 1, \"min\": 2032, \"max\": 2032}, \"Number of Batches Since Last Reset\": {\"sum\": 5.0, \"count\": 1, \"min\": 5, \"max\": 5}}}\n",
      "\u001b[0m\n",
      "\u001b[34m[06/29/2021 19:31:25 INFO 140211638945600] #throughput_metric: host=algo-1, train throughput=4205.778821745945 records/second\u001b[0m\n"
     ]
    },
    {
     "name": "stdout",
     "output_type": "stream",
     "text": [
      "\u001b[34m#metrics {\"StartTime\": 1624995085.79339, \"EndTime\": 1624995092.170641, \"Dimensions\": {\"Algorithm\": \"PCA\", \"Host\": \"algo-1\", \"Operation\": \"training\"}, \"Metrics\": {\"finalize.time\": {\"sum\": 6376.468658447266, \"count\": 1, \"min\": 6376.468658447266, \"max\": 6376.468658447266}}}\n",
      "\u001b[0m\n",
      "\u001b[34m[06/29/2021 19:31:32 INFO 140211638945600] Test data is not provided.\u001b[0m\n",
      "\u001b[34m#metrics {\"StartTime\": 1624995092.1707315, \"EndTime\": 1624995092.1750827, \"Dimensions\": {\"Algorithm\": \"PCA\", \"Host\": \"algo-1\", \"Operation\": \"training\"}, \"Metrics\": {\"setuptime\": {\"sum\": 22.950172424316406, \"count\": 1, \"min\": 22.950172424316406, \"max\": 22.950172424316406}, \"totaltime\": {\"sum\": 7720.877885818481, \"count\": 1, \"min\": 7720.877885818481, \"max\": 7720.877885818481}}}\n",
      "\u001b[0m\n",
      "\n",
      "2021-06-29 19:31:43 Uploading - Uploading generated training model\n",
      "2021-06-29 19:31:43 Completed - Training job completed\n",
      "Training seconds: 56\n",
      "Billable seconds: 17\n",
      "Managed Spot Training savings: 69.6%\n",
      "CPU times: user 542 ms, sys: 31.9 ms, total: 574 ms\n",
      "Wall time: 4min 15s\n"
     ]
    }
   ],
   "source": [
    "%%time\n",
    "# train the PCA mode on the formatted data\n",
    "pca_SM.fit(formatted_train_data, wait=True)"
   ]
  },
  {
   "cell_type": "markdown",
   "id": "a1991a9d",
   "metadata": {},
   "source": [
    "### Deploy the PCA Model\n",
    "\n",
    "We can now deploy the PCA model and use it to make predictions. "
   ]
  },
  {
   "cell_type": "code",
   "execution_count": 7,
   "id": "5def4171",
   "metadata": {},
   "outputs": [
    {
     "name": "stderr",
     "output_type": "stream",
     "text": [
      "Defaulting to the only supported framework/algorithm version: 1. Ignoring framework/algorithm version: 1.\n"
     ]
    },
    {
     "name": "stdout",
     "output_type": "stream",
     "text": [
      "---------------!"
     ]
    }
   ],
   "source": [
    "# this takes a little while, around 7mins\n",
    "pca_predictor = pca_SM.deploy(initial_instance_count=1, \n",
    "                              instance_type='ml.t2.medium')"
   ]
  },
  {
   "cell_type": "markdown",
   "id": "0f470daf",
   "metadata": {},
   "source": [
    "### Predict based on endpoint\n",
    "\n",
    "Based on the endpoint that we have created, we can transform the images into a PCA vector with a specified number of components. Since we have put the algorithm on a relatively small instance, we will perform the batch predictions with a certain number of requests. Moreover, the algorithm returns an object in the form of a RecordSet, so we have to convert the output to a NumPy array.\n",
    "\n",
    "To correctly determine the threshold, we make predictions on anchor images, and then on positive/negative pair, thus will be able to determine the threshold for which we assume that a given face is the same as the base face."
   ]
  },
  {
   "cell_type": "code",
   "execution_count": 8,
   "id": "1fb3fbaa",
   "metadata": {},
   "outputs": [
    {
     "name": "stdout",
     "output_type": "stream",
     "text": [
      "Train data anchors shape: (2032, 150)\n",
      "Train data samples shape: (2032, 150)\n",
      "Train data labels shape: (2032,)\n"
     ]
    }
   ],
   "source": [
    "def _pb_to_numpy(pb_object):\n",
    "    return pb_object.label['projection'].float32_tensor.values\n",
    "\n",
    "def batch_prediction(data, predictor, embedding_size, batch_size=100):\n",
    "    numpy_frame = np.zeros((data.shape[0], embedding_size))\n",
    "    for bs in range(0, data.shape[0], batch_size):\n",
    "        # predict using endpoints\n",
    "        batch_prediction = predictor.predict(data[bs:bs+batch_size])\n",
    "        numpy_frame[bs:bs+batch_size] = np.array(list(map(_pb_to_numpy, batch_prediction)))\n",
    "    return numpy_frame\n",
    "\n",
    "train_pca_anchor = batch_prediction(train_data[:, 0, :], pca_predictor, N_COMPONENTS)\n",
    "train_pca_samples = batch_prediction(train_data[:, 1, :], pca_predictor, N_COMPONENTS)\n",
    "train_labels = np.load(s3.open(f'{prefix_pca_input}/y_train_pca.npy'))\n",
    "\n",
    "print(f'Train data anchors shape: {train_pca_anchor.shape}')\n",
    "print(f'Train data samples shape: {train_pca_samples.shape}')\n",
    "print(f'Train data labels shape: {train_labels.shape}')"
   ]
  },
  {
   "cell_type": "markdown",
   "id": "353faad0",
   "metadata": {},
   "source": [
    "## Calculate distance threshold with train data\n",
    "\n",
    "For the threshold estimation, the hyperopt library was used. Hyperopt is a Python library for serial and parallel optimization over awkward search spaces, which may include real-valued, discrete, and conditional dimensions. To compare vectors euclidean distance as used. Moreover, optimization was conducted base on the minimization function described above. As mentioned before, algorithms create embeddings for each image and estimate thresholds based on distance. The threshold obtained in this way will be used to check the metrics for the test and validation sets."
   ]
  },
  {
   "cell_type": "code",
   "execution_count": 9,
   "id": "7ce93459",
   "metadata": {},
   "outputs": [],
   "source": [
    "from sklearn.metrics.pairwise import cosine_similarity\n",
    "from sklearn.metrics import accuracy_score, f1_score, roc_auc_score, cohen_kappa_score, precision_score\n",
    "# import hyperopt libraries\n",
    "from hyperopt import fmin, tpe, hp, Trials, space_eval\n",
    "\n",
    "\n",
    "def calculate_distances(anchor_embedding, sample_embedding, metric='euclidean'):\n",
    "    # calculate distance between anchor and sample with given metric\n",
    "    metrics = ['euclidean', 'cosine']\n",
    "    # calcyulate pairwise euclidean distance\n",
    "    if metric == metrics[0]:\n",
    "        return np.linalg.norm(anchor_embedding-sample_embedding, axis=1)\n",
    "    # calculate cosine distance\n",
    "    elif metric == metrics[1]:\n",
    "        return 1 - np.diag(cosine_similarity(anchor_embedding, sample_embedding), k=0)\n",
    "    else:\n",
    "        raise ValueError(f'{metric} not implemented, use one of {metrics} metrics')\n",
    "\n",
    "\n",
    "def scorer(y, y_sim):\n",
    "    # create dictionary with basic metrics\n",
    "    func = [accuracy_score, f1_score, roc_auc_score, cohen_kappa_score]\n",
    "    names = ['Accuracy', 'F1', 'ROC_AUC', 'COHEN_KAPPA']\n",
    "    score = dict()\n",
    "    for f, name in zip(func, names):\n",
    "        score[name] = f(y, y_sim)\n",
    "\n",
    "    return score\n",
    "\n",
    "\n",
    "def threshold_optimization(dataset, labels, threshold_max, max_evals):\n",
    "    ## Create optimization threshold function\n",
    "\n",
    "    def minimize(threshold):\n",
    "        # minimize function with given threshold\n",
    "        binary_score = np.where(data < threshold, 1, 0)\n",
    "        return 1-accuracy_score(labels, binary_score)\n",
    "\n",
    "    # optimize the threshold based on f1 metric\n",
    "    best = fmin(fn=minimize,\n",
    "        space=hp.uniform('threshold', 0, threshold_max),\n",
    "        algo=tpe.suggest,\n",
    "        max_evals=max_evals,\n",
    "        rstate = np.random.RandomState(1))\n",
    "    \n",
    "    thresh = int(best['threshold'])\n",
    "    \n",
    "    acc = accuracy_score(labels, np.where(data < thresh, 1, 0))\n",
    "    print(f'Best threshold: {thresh}')\n",
    "    print(f'Accuracy score {acc}')\n",
    "    return thresh"
   ]
  },
  {
   "cell_type": "code",
   "execution_count": 10,
   "id": "b943e108",
   "metadata": {
    "scrolled": true
   },
   "outputs": [
    {
     "name": "stdout",
     "output_type": "stream",
     "text": [
      "100%|██████████| 100/100 [00:00<00:00, 283.60trial/s, best loss: 0.41240157480314965]\n",
      "Best threshold: 2566\n",
      "Accuracy score 0.5875984251968503\n"
     ]
    }
   ],
   "source": [
    "# calculate optimal threshold with eclidean metric\n",
    "data = calculate_distances(train_pca_anchor, train_pca_samples, metric='euclidean')\n",
    "threshold = threshold_optimization(data, train_labels, 10000, 100)"
   ]
  },
  {
   "cell_type": "markdown",
   "id": "c647e1a7",
   "metadata": {},
   "source": [
    "## Validate algorithm with test / val dataset"
   ]
  },
  {
   "cell_type": "code",
   "execution_count": 11,
   "id": "33ce9d92",
   "metadata": {},
   "outputs": [
    {
     "name": "stdout",
     "output_type": "stream",
     "text": [
      "Train data anchors shape: (508, 150)\n",
      "Train data samples shape: (508, 150)\n",
      "Train data labels shape: (508,)\n"
     ]
    },
    {
     "data": {
      "text/plain": [
       "{'Accuracy': 0.6023622047244095,\n",
       " 'F1': 0.547085201793722,\n",
       " 'ROC_AUC': 0.6023622047244095,\n",
       " 'COHEN_KAPPA': 0.20472440944881887}"
      ]
     },
     "execution_count": 11,
     "metadata": {},
     "output_type": "execute_result"
    }
   ],
   "source": [
    "np.load(s3.open(f'{prefix_pca_input}/X_train_pca.npy')).astype('float32')\n",
    "\n",
    "test_data = np.load(s3.open(f'{prefix_pca_input}/X_test_pca.npy')).astype('float32')\n",
    "\n",
    "test_pca_anchor = batch_prediction(test_data[:, 0, :], pca_predictor, N_COMPONENTS)\n",
    "test_pca_samples = batch_prediction(test_data[:, 1, :], pca_predictor, N_COMPONENTS)\n",
    "test_labels = np.load(s3.open(f'{prefix_pca_input}/y_test_pca.npy'))\n",
    "\n",
    "print(f'Train data anchors shape: {test_pca_anchor.shape}')\n",
    "print(f'Train data samples shape: {test_pca_samples.shape}')\n",
    "print(f'Train data labels shape: {test_labels.shape}')\n",
    "\n",
    "\n",
    "test_distances = calculate_distances(test_pca_anchor, test_pca_samples, metric='euclidean')\n",
    "\n",
    "scorer(test_labels, np.where(test_distances < threshold, 1, 0))"
   ]
  },
  {
   "cell_type": "code",
   "execution_count": 12,
   "id": "f3edbb89",
   "metadata": {
    "scrolled": false
   },
   "outputs": [
    {
     "name": "stdout",
     "output_type": "stream",
     "text": [
      "Train data anchors shape: (254, 150)\n",
      "Train data samples shape: (254, 150)\n",
      "Train data labels shape: (254,)\n"
     ]
    },
    {
     "data": {
      "text/plain": [
       "{'Accuracy': 0.5826771653543307,\n",
       " 'F1': 0.5137614678899082,\n",
       " 'ROC_AUC': 0.5826771653543308,\n",
       " 'COHEN_KAPPA': 0.16535433070866146}"
      ]
     },
     "execution_count": 12,
     "metadata": {},
     "output_type": "execute_result"
    }
   ],
   "source": [
    "validation_data = np.load(s3.open(f'{prefix_pca_input}/X_val_final.npy')).astype('float32')\n",
    "\n",
    "val_pca_anchor = batch_prediction(validation_data[:, 0, :], pca_predictor, N_COMPONENTS)\n",
    "val_pca_samples = batch_prediction(validation_data[:, 1, :], pca_predictor, N_COMPONENTS)\n",
    "val_labels = np.load(s3.open(f'{prefix_pca_input}/y_val_final.npy'))\n",
    "\n",
    "print(f'Train data anchors shape: {val_pca_anchor.shape}')\n",
    "print(f'Train data samples shape: {val_pca_samples.shape}')\n",
    "print(f'Train data labels shape: {val_labels.shape}')\n",
    "\n",
    "\n",
    "val_distances = calculate_distances(val_pca_anchor, val_pca_samples, metric='euclidean')\n",
    "\n",
    "scorer(val_labels, np.where(val_distances < threshold, 1, 0))"
   ]
  },
  {
   "cell_type": "markdown",
   "id": "d64a3c45",
   "metadata": {},
   "source": [
    "## Examine results\n",
    "\n",
    "We can see the results for the test, training, and validation set are similar, which means that our model, but also the selected threshold, is correct. \n",
    "\n",
    "The PCA base model achieved **0.58 accuracy** for the validation set. Furthermore, the PCA model is easy to interpret and maintain. This is a huge advantage of this type of model, but the accuracy is not sufficient to implement the model into production. \n",
    "\n",
    "The PCA model does not to be able to diagnose the improvement in the facial shift in the image. We can use this model as a baseline to obtain a view of the dataset and prediction. Below histograms with distance thresholds are analyzed. We see that some faces are far away from the minimum distance threshold. This can lead to incorrect authorization with users especially in cases of different angles of the face. "
   ]
  },
  {
   "cell_type": "code",
   "execution_count": 15,
   "id": "82a3aebb",
   "metadata": {},
   "outputs": [],
   "source": [
    "import seaborn as sns\n",
    "\n",
    "def make_plot(distance, labels):\n",
    "    df = pd.DataFrame({'distance': distance, 'labels': labels})\n",
    "    sns.displot(df, x='distance', kde=True, col='labels')\n",
    "    plt.show()"
   ]
  },
  {
   "cell_type": "code",
   "execution_count": 16,
   "id": "78e1a137",
   "metadata": {},
   "outputs": [
    {
     "data": {
      "image/png": "[encoded data removed]",
      "text/plain": [
       "<Figure size 720x360 with 2 Axes>"
      ]
     },
     "metadata": {
      "needs_background": "light"
     },
     "output_type": "display_data"
    }
   ],
   "source": [
    "make_plot(data, train_labels)"
   ]
  },
  {
   "cell_type": "code",
   "execution_count": 17,
   "id": "ec2af461",
   "metadata": {},
   "outputs": [
    {
     "data": {
      "image/png": "[encoded data removed]",
      "text/plain": [
       "<Figure size 720x360 with 2 Axes>"
      ]
     },
     "metadata": {
      "needs_background": "light"
     },
     "output_type": "display_data"
    }
   ],
   "source": [
    "make_plot(test_distances, test_labels)"
   ]
  },
  {
   "cell_type": "code",
   "execution_count": 18,
   "id": "710a1610",
   "metadata": {},
   "outputs": [
    {
     "data": {
      "image/png": "[encoded data removed]",
      "text/plain": [
       "<Figure size 720x360 with 2 Axes>"
      ]
     },
     "metadata": {
      "needs_background": "light"
     },
     "output_type": "display_data"
    }
   ],
   "source": [
    "make_plot(val_distances, val_labels)"
   ]
  },
  {
   "cell_type": "code",
   "execution_count": 19,
   "id": "c067e629",
   "metadata": {},
   "outputs": [],
   "source": [
    "pca_predictor.delete_endpoint()"
   ]
  }
 ],
 "metadata": {
  "kernelspec": {
   "display_name": "conda_tensorflow2_p36",
   "language": "python",
   "name": "conda_tensorflow2_p36"
  },
  "language_info": {
   "codemirror_mode": {
    "name": "ipython",
    "version": 3
   },
   "file_extension": ".py",
   "mimetype": "text/x-python",
   "name": "python",
   "nbconvert_exporter": "python",
   "pygments_lexer": "ipython3",
   "version": "3.6.13"
  }
 },
 "nbformat": 4,
 "nbformat_minor": 5
}
